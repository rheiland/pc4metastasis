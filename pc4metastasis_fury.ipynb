{
 "cells": [
  {
   "cell_type": "code",
   "execution_count": 2,
   "metadata": {},
   "outputs": [],
   "source": [
    "style = \"\"\"\n",
    "    <style>\n",
    "       .jupyter-widgets-output-area .output_scroll {\n",
    "            height: unset !important;\n",
    "            border-radius: unset !important;\n",
    "            -webkit-box-shadow: unset !important;\n",
    "            box-shadow: unset !important;\n",
    "        }\n",
    "        .jupyter-widgets-output-area  {\n",
    "            height: auto !important;\n",
    "        }\n",
    "    </style>\n",
    "    \"\"\""
   ]
  },
  {
   "cell_type": "code",
   "execution_count": 3,
   "metadata": {},
   "outputs": [
    {
     "data": {
      "text/html": [
       "<style>.container { width:100% !important; }</style>"
      ],
      "text/plain": [
       "<IPython.core.display.HTML object>"
      ]
     },
     "metadata": {},
     "output_type": "display_data"
    },
    {
     "data": {
      "text/html": [
       "\n",
       "    <style>\n",
       "       .jupyter-widgets-output-area .output_scroll {\n",
       "            height: unset !important;\n",
       "            border-radius: unset !important;\n",
       "            -webkit-box-shadow: unset !important;\n",
       "            box-shadow: unset !important;\n",
       "        }\n",
       "        .jupyter-widgets-output-area  {\n",
       "            height: auto !important;\n",
       "        }\n",
       "    </style>\n",
       "    "
      ],
      "text/plain": [
       "<IPython.core.display.HTML object>"
      ]
     },
     "metadata": {},
     "output_type": "display_data"
    }
   ],
   "source": [
    "%matplotlib inline\n",
    "from IPython.core.display import HTML\n",
    "from IPython.display import display\n",
    "display(HTML(\"<style>.container { width:100% !important; }</style>\"))\n",
    "display(HTML(style))"
   ]
  },
  {
   "cell_type": "code",
   "execution_count": 4,
   "metadata": {
    "scrolled": false
   },
   "outputs": [
    {
     "data": {
      "application/vnd.jupyter.widget-view+json": {
       "model_id": "14c4792521c64651aaa5aadb156985d4",
       "version_major": 2,
       "version_minor": 0
      },
      "text/plain": [
       "VBox(children=(Accordion(children=(Tab(children=(Output(), Output(), Output(), Output(), Output(), Output()), …"
      ]
     },
     "metadata": {},
     "output_type": "display_data"
    }
   ],
   "source": [
    "import sys, os\n",
    "sys.path.insert(0, os.path.abspath('bin'))\n",
    "#os.environ['CACHEDIR'] = os.path.join(os.path.abspath(''), 'tmpdir')\n",
    "from DataSet import *\n",
    "\n",
    "GUI_ModeSelectionData()"
   ]
  },
  {
   "cell_type": "code",
   "execution_count": 5,
   "metadata": {},
   "outputs": [],
   "source": [
    "#%run My_fury3D.py output_H1 80"
   ]
  },
  {
   "cell_type": "code",
   "execution_count": 7,
   "metadata": {},
   "outputs": [
    {
     "data": {
      "application/vnd.jupyter.widget-view+json": {
       "model_id": "e83b746355b846c289551451fb80680e",
       "version_major": 2,
       "version_minor": 0
      },
      "text/plain": [
       "VBox(children=(Button(button_style='success', description='Send data to Fury', layout=Layout(width='280px'), s…"
      ]
     },
     "metadata": {},
     "output_type": "display_data"
    },
    {
     "name": "stdout",
     "output_type": "stream",
     "text": [
      "session_dir =  None\n",
      "session_id =  None\n",
      "user_id =  heiland\n"
     ]
    },
    {
     "ename": "TypeError",
     "evalue": "can only concatenate str (not \"NoneType\") to str",
     "output_type": "error",
     "traceback": [
      "\u001b[0;31m---------------------------------------------------------------------------\u001b[0m",
      "\u001b[0;31mTypeError\u001b[0m                                 Traceback (most recent call last)",
      "Input \u001b[0;32mIn [7]\u001b[0m, in \u001b[0;36msend_tumor_to_fury_cb\u001b[0;34m(b)\u001b[0m\n\u001b[1;32m     79\u001b[0m user_id \u001b[38;5;241m=\u001b[39m os\u001b[38;5;241m.\u001b[39mgetenv(\u001b[38;5;124m'\u001b[39m\u001b[38;5;124mUSER\u001b[39m\u001b[38;5;124m'\u001b[39m)\n\u001b[1;32m     80\u001b[0m \u001b[38;5;28mprint\u001b[39m(\u001b[38;5;124m'\u001b[39m\u001b[38;5;124muser_id = \u001b[39m\u001b[38;5;124m'\u001b[39m,user_id)\n\u001b[0;32m---> 81\u001b[0m fury_data_path_str \u001b[38;5;241m=\u001b[39m \u001b[38;5;124;43m\"\u001b[39;49m\u001b[38;5;124;43m/data/tools/shared/\u001b[39;49m\u001b[38;5;124;43m\"\u001b[39;49m\u001b[43m \u001b[49m\u001b[38;5;241;43m+\u001b[39;49m\u001b[43m \u001b[49m\u001b[43muser_id\u001b[49m\u001b[43m \u001b[49m\u001b[38;5;241;43m+\u001b[39;49m\u001b[43m \u001b[49m\u001b[38;5;124;43m\"\u001b[39;49m\u001b[38;5;124;43m/fury/\u001b[39;49m\u001b[38;5;124;43m\"\u001b[39;49m\u001b[43m \u001b[49m\u001b[38;5;241;43m+\u001b[39;49m\u001b[43m \u001b[49m\u001b[43msession_id\u001b[49m\n\u001b[1;32m     82\u001b[0m \u001b[38;5;66;03m# updated, based on email from Serge (1/19/21)\u001b[39;00m\n\u001b[1;32m     83\u001b[0m fury_data_path_str2 \u001b[38;5;241m=\u001b[39m \u001b[38;5;124m\"\u001b[39m\u001b[38;5;124m/srv/nanohub/data/tools/shared/\u001b[39m\u001b[38;5;124m\"\u001b[39m \u001b[38;5;241m+\u001b[39m user_id \u001b[38;5;241m+\u001b[39m \u001b[38;5;124m\"\u001b[39m\u001b[38;5;124m/fury/\u001b[39m\u001b[38;5;124m\"\u001b[39m \u001b[38;5;241m+\u001b[39m session_id\n",
      "\u001b[0;31mTypeError\u001b[0m: can only concatenate str (not \"NoneType\") to str"
     ]
    }
   ],
   "source": [
    "from fury_tab import FuryTab\n",
    "from shutil import copyfile\n",
    "from pathlib import Path\n",
    "\n",
    "fury_tab = FuryTab()\n",
    "tab_height = 'auto'\n",
    "tab_layout = widgets.Layout(width='auto',height=tab_height, overflow_y='scroll',)\n",
    "titles = ['Fury']\n",
    "tabs = widgets.Tab(children=[fury_tab.tab],\n",
    "                   _titles={i: t for i, t in enumerate(titles)},\n",
    "                   layout=tab_layout)\n",
    "fury_feedback_str = widgets.Label(value='')\n",
    "\n",
    "def send_data_to_fury_cb(b):\n",
    "    fury_feedback_str.value = \"working...\"\n",
    "    session_dir = os.getenv('SESSIONDIR')\n",
    "    print('session_dir = ',session_dir)\n",
    "    session_id = os.getenv('SESSION')\n",
    "    print('session_id = ',session_id)\n",
    "    user_id = os.getenv('USER')\n",
    "    print('user_id = ',user_id)\n",
    "    fury_data_path_str = \"/data/tools/shared/\" + user_id + \"/fury/\" + session_id\n",
    "    # updated, based on email from Serge (1/19/21)\n",
    "    fury_data_path_str2 = \"/srv/nanohub/data/tools/shared/\" + user_id + \"/fury/\" + session_id\n",
    "\n",
    "    # dummy to test locally\n",
    "    # fury_data_path_str = \"/tmp/\" + user_id + \"/fury\" \n",
    "    print(\"fury_data_path_str = \",fury_data_path_str)\n",
    "    print(\"fury_data_path_str2 = \",fury_data_path_str2)\n",
    "\n",
    "    os.makedirs(fury_data_path_str, exist_ok=True)\n",
    "    # data_file = \"output00000001_cells_physicell.mat\"\n",
    "\n",
    "    # we need to copy 3(?) files (for any one frame)\n",
    "    mesh_file = \"initial_mesh0.mat\" \n",
    "#     frame_num = 13\n",
    "    frame_num = 80\n",
    "    xml_file = \"output%08d.xml\" % frame_num\n",
    "    data_file = \"output%08d_cells_physicell.mat\" % frame_num\n",
    "    # from the app's root directory\n",
    "    # print(\"self.output_dir = \",self.output_dir)\n",
    "    # from_file = \"tmpdir/\" + data_file\n",
    "\n",
    "    # from_file = self.output_dir + \"/\" + mesh_file\n",
    "    from_file = \"data/\" + mesh_file\n",
    "    to_file = fury_data_path_str + \"/\" + mesh_file\n",
    "    copyfile(from_file, to_file)\n",
    "\n",
    "    # from_file = self.output_dir + \"/\" + xml_file\n",
    "    from_file = \"data/\" + xml_file\n",
    "    to_file = fury_data_path_str + \"/\" + xml_file\n",
    "    copyfile(from_file, to_file)\n",
    "\n",
    "    # from_file = self.output_dir + \"/\" + data_file\n",
    "    from_file = \"data/\" + data_file\n",
    "    print(\"from: \",from_file)\n",
    "    to_file = fury_data_path_str + \"/\" + data_file\n",
    "    print(\"to: \",to_file)\n",
    "    copyfile(from_file, to_file)\n",
    "\n",
    "#                time.sleep(3)\n",
    "    file = Path(to_file)\n",
    "    while not file.exists():\n",
    "        time.sleep(2)\n",
    "\n",
    "    # copyfile(\"tmpdir/\" + data_file, fury_data_path_str + \"/\" + \"output00000001_cells_physicell.mat\")\n",
    "\n",
    "    # Send signal to Fury that new data is ready: (folder, filename)\n",
    "    fury_tab.send_data(fury_data_path_str2, xml_file)\n",
    "\n",
    "    fury_feedback_str.value = \"\"\n",
    "\n",
    "def send_tumor_to_fury_cb(b):\n",
    "    fury_feedback_str.value = \"working...\"\n",
    "    session_dir = os.getenv('SESSIONDIR')\n",
    "    print('session_dir = ',session_dir)\n",
    "    session_id = os.getenv('SESSION')\n",
    "    print('session_id = ',session_id)\n",
    "    user_id = os.getenv('USER')\n",
    "    print('user_id = ',user_id)\n",
    "    fury_data_path_str = \"/data/tools/shared/\" + user_id + \"/fury/\" + session_id\n",
    "    # updated, based on email from Serge (1/19/21)\n",
    "    fury_data_path_str2 = \"/srv/nanohub/data/tools/shared/\" + user_id + \"/fury/\" + session_id\n",
    "\n",
    "    # dummy to test locally\n",
    "    # fury_data_path_str = \"/tmp/\" + user_id + \"/fury\" \n",
    "    print(\"fury_data_path_str = \",fury_data_path_str)\n",
    "    print(\"fury_data_path_str2 = \",fury_data_path_str2)\n",
    "\n",
    "    os.makedirs(fury_data_path_str, exist_ok=True)\n",
    "    # data_file = \"output00000001_cells_physicell.mat\"\n",
    "\n",
    "    # we need to copy 3(?) files (for any one frame)\n",
    "    mesh_file = \"initial_mesh0_tumor.mat\" \n",
    "    frame_num = 13\n",
    "#     frame_num = 80\n",
    "    xml_file = \"output%08d.xml\" % frame_num\n",
    "    data_file = \"output%08d_cells_physicell.mat\" % frame_num\n",
    "    # from the app's root directory\n",
    "    # print(\"self.output_dir = \",self.output_dir)\n",
    "    # from_file = \"tmpdir/\" + data_file\n",
    "\n",
    "    # from_file = self.output_dir + \"/\" + mesh_file\n",
    "    from_file = \"data/\" + mesh_file\n",
    "    to_file = fury_data_path_str + \"/\" + mesh_file\n",
    "    copyfile(from_file, to_file)\n",
    "\n",
    "    # from_file = self.output_dir + \"/\" + xml_file\n",
    "    from_file = \"data/\" + xml_file\n",
    "    to_file = fury_data_path_str + \"/\" + xml_file\n",
    "    copyfile(from_file, to_file)\n",
    "\n",
    "    # from_file = self.output_dir + \"/\" + data_file\n",
    "    from_file = \"data/\" + data_file\n",
    "    print(\"from: \",from_file)\n",
    "    to_file = fury_data_path_str + \"/\" + data_file\n",
    "    print(\"to: \",to_file)\n",
    "    copyfile(from_file, to_file)\n",
    "\n",
    "#                time.sleep(3)\n",
    "    file = Path(to_file)\n",
    "    while not file.exists():\n",
    "        time.sleep(2)\n",
    "\n",
    "    # copyfile(\"tmpdir/\" + data_file, fury_data_path_str + \"/\" + \"output00000001_cells_physicell.mat\")\n",
    "\n",
    "    # Send signal to Fury that new data is ready: (folder, filename)\n",
    "    fury_tab.send_data(fury_data_path_str2, xml_file)\n",
    "\n",
    "    fury_feedback_str.value = \"\"\n",
    "    \n",
    "#---------------------------\n",
    "def send_local_data_to_fury_cb(b):\n",
    "    fury_feedback_str.value = \"working...\"\n",
    "    session_dir = os.getenv('SESSIONDIR')\n",
    "    print('session_dir = ',session_dir)\n",
    "    session_id = os.getenv('SESSION')\n",
    "    print('session_id = ',session_id)\n",
    "    user_id = os.getenv('USER')\n",
    "    print('user_id = ',user_id)\n",
    "    fury_data_path_str = \"/data/tools/shared/\" + user_id + \"/fury/\" + session_id\n",
    "    # updated, based on email from Serge (1/19/21)\n",
    "    fury_data_path_str2 = \"/srv/nanohub/data/tools/shared/\" + user_id + \"/fury/\" + session_id\n",
    "\n",
    "    # dummy to test locally\n",
    "    # fury_data_path_str = \"/tmp/\" + user_id + \"/fury\" \n",
    "    print(\"fury_data_path_str = \",fury_data_path_str)\n",
    "    print(\"fury_data_path_str2 = \",fury_data_path_str2)\n",
    "\n",
    "    os.makedirs(fury_data_path_str, exist_ok=True)\n",
    "    # data_file = \"output00000001_cells_physicell.mat\"\n",
    "\n",
    "    # we need to copy 3(?) files (for any one frame)\n",
    "    mesh_file = \"initial_mesh0.mat\" \n",
    "#     frame_num = 13\n",
    "    frame_num = 80\n",
    "    xml_file = \"output%08d.xml\" % frame_num\n",
    "    data_file = \"output%08d_cells_physicell.mat\" % frame_num\n",
    "    # from the app's root directory\n",
    "    # print(\"self.output_dir = \",self.output_dir)\n",
    "    # from_file = \"tmpdir/\" + data_file\n",
    "\n",
    "    # from_file = self.output_dir + \"/\" + mesh_file\n",
    "    from_file = \"data/\" + mesh_file\n",
    "    to_file = fury_data_path_str + \"/\" + mesh_file\n",
    "    copyfile(from_file, to_file)\n",
    "\n",
    "    # from_file = self.output_dir + \"/\" + xml_file\n",
    "    from_file = \"data/\" + xml_file\n",
    "    to_file = fury_data_path_str + \"/\" + xml_file\n",
    "    copyfile(from_file, to_file)\n",
    "\n",
    "    # from_file = self.output_dir + \"/\" + data_file\n",
    "    from_file = \"data/\" + data_file\n",
    "    print(\"from: \",from_file)\n",
    "    to_file = fury_data_path_str + \"/\" + data_file\n",
    "    print(\"to: \",to_file)\n",
    "    copyfile(from_file, to_file)\n",
    "\n",
    "#                time.sleep(3)\n",
    "    file = Path(to_file)\n",
    "    while not file.exists():\n",
    "        time.sleep(2)\n",
    "\n",
    "    # copyfile(\"tmpdir/\" + data_file, fury_data_path_str + \"/\" + \"output00000001_cells_physicell.mat\")\n",
    "\n",
    "    # Send signal to Fury that new data is ready: (folder, filename)\n",
    "    fury_tab.send_data(fury_data_path_str2, xml_file)\n",
    "\n",
    "    fury_feedback_str.value = \"\"\n",
    "\n",
    "#--------------------\n",
    "fury_button= widgets.Button(\n",
    "    description=\"Send data to Fury\", #style={'description_width': 'initial'},\n",
    "    button_style='success',  # 'success', 'info', 'warning', 'danger' or ''\n",
    "    tooltip='Click to send data to the Fury GPU server',\n",
    "    disabled=False,\n",
    "    layout=widgets.Layout(width='280px')\n",
    ")\n",
    "fury_button.on_click(send_data_to_fury_cb)\n",
    "# fury_button.on_click(send_local_data_to_fury_cb)\n",
    "\n",
    "tumor_button= widgets.Button(\n",
    "    description=\"Tumor data to Fury\", #style={'description_width': 'initial'},\n",
    "    button_style='success',  # 'success', 'info', 'warning', 'danger' or ''\n",
    "    tooltip='Click to send tumor data to the Fury GPU server',\n",
    "    disabled=False,\n",
    "    layout=widgets.Layout(width='280px')\n",
    ")\n",
    "tumor_button.on_click(send_tumor_to_fury_cb)\n",
    "\n",
    "\n",
    "gui = widgets.VBox(children=[fury_button, tumor_button, fury_feedback_str, tabs])\n",
    "gui"
   ]
  },
  {
   "cell_type": "code",
   "execution_count": null,
   "metadata": {},
   "outputs": [],
   "source": []
  }
 ],
 "metadata": {
  "kernelspec": {
   "display_name": "Python 3 (ipykernel)",
   "language": "python",
   "name": "python3"
  },
  "language_info": {
   "codemirror_mode": {
    "name": "ipython",
    "version": 3
   },
   "file_extension": ".py",
   "mimetype": "text/x-python",
   "name": "python",
   "nbconvert_exporter": "python",
   "pygments_lexer": "ipython3",
   "version": "3.9.12"
  }
 },
 "nbformat": 4,
 "nbformat_minor": 4
}
